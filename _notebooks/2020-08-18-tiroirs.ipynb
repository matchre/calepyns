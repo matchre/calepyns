{
 "cells": [
  {
   "cell_type": "markdown",
   "metadata": {},
   "source": [
    "# Une histoire de tiroirs\n",
    "> Parties de même somme d'un ensemble  \n",
    "\n",
    "- toc:true\n",
    "- branch: master\n",
    "- badges: true\n",
    "- author: Nathalie Weibel\n",
    "- image : images/tiroirs.png\n",
    "- categories: [jupyter, binaire, combinaisons]"
   ]
  },
  {
   "cell_type": "markdown",
   "metadata": {},
   "source": [
    "Voici quelques extraits d'un article de Jean-Paul Delahaye, publié dans [Pour la science 483](https://www.pourlascience.fr/sd/mathematiques/trivial-mais-puissant-le-principe-des-tiroirs-9996.php) en janvier 2018 :\n",
    "\n",
    ">Si l’on se donne 10 entiers quelconques composés de deux chiffres, il existe\n",
    ">parmi eux deux sous-ensembles disjoints de\n",
    ">nombres ayant la même somme. Par exemple,\n",
    ">si l’on se donne {23, 35, 44, 61, 68, 70, 71, 82, 83, 95},\n",
    ">on trouvera que {23, 35, 95} donne la même\n",
    ">somme que {71, 82} : 23 + 35 + 95 = 153 = 71 + 82"
   ]
  },
  {
   "cell_type": "markdown",
   "metadata": {},
   "source": [
    "> **Démonstration** :   \n",
    "Les sous-ensembles possibles de notre ensemble de 10 entiers sont au\n",
    "nombre de $2^{10}$ = 1 024, car pour constituer un tel\n",
    "sous-ensemble, on opère 10  fois de suite le\n",
    "choix binaire : prendre le nombre ou ne pas le\n",
    "prendre.   \n",
    "Quels nombres peut-on atteindre en faisant la somme des nombres de nos sous-ensembles ? Un sous-ensemble comporte de 0 à 10 nombres compris entre 10 et 99 ; la somme est donc comprise entre 0 et 10 fois 99, donc\n",
    "entre 0 et 990. En numérotant 991 tiroirs de 0 à 990, et en plaçant chaque sous-ensemble possible dans le tiroir dont le numéro est la somme de ses éléments, on trouve d’après le principe des tiroirs deux sous-ensembles ayant la même somme. \n",
    "\n",
    "> Le problème n’est cependant pas vraiment résolu, car on nous demande de trouver des sous-ensembles disjoints ayant la même somme, et rien ne nous permet d’affirmer que les deux\n",
    "sous-ensembles trouvés à l’instant le sont. Ce n’est pas très grave : si les sous-ensembles ont\n",
    "des éléments en commun, on les enlève. Les deux sous-ensembles alors obtenus ont encore la même somme, car on a enlevé les mêmes éléments, et cette fois ce sont deux sous-ensembles disjoints."
   ]
  },
  {
   "cell_type": "markdown",
   "metadata": {},
   "source": [
    "Ce résultat assure l'*existence* d'au moins une solution.  \n",
    "L'objectif est ici d'exhiber toutes les solutions pour un ensemble de 10 entiers aléatoires entre 10 et 99.\n"
   ]
  },
  {
   "cell_type": "markdown",
   "metadata": {},
   "source": [
    "## Générer un tableau de 10 entiers distincts"
   ]
  },
  {
   "cell_type": "markdown",
   "metadata": {},
   "source": [
    "* Les dix entiers sont compris entre 10 et 99\n",
    "* Ils sont distincts"
   ]
  },
  {
   "cell_type": "code",
   "execution_count": 1,
   "metadata": {},
   "outputs": [],
   "source": [
    "from random import randint\n",
    "def genere_dix_entiers():\n",
    "    entiers = []\n",
    "    while len(entiers) < 10:\n",
    "        nouvel_entier = randint(10,99)\n",
    "        if nouvel_entier not in entiers :\n",
    "            entiers.append(nouvel_entier)\n",
    "        else:\n",
    "            pass\n",
    "    return(entiers)"
   ]
  },
  {
   "cell_type": "markdown",
   "metadata": {},
   "source": [
    "## Générer toutes les parties d'un ensemble\n",
    "\n",
    "Trois méthodes sont proposées : une seule suffit, mais cela permet de choisir celle qui convient le mieux au contexte.\n"
   ]
  },
  {
   "cell_type": "markdown",
   "metadata": {},
   "source": [
    "### Méthode 1 : construction par ajout d'élements successifs"
   ]
  },
  {
   "cell_type": "code",
   "execution_count": 2,
   "metadata": {},
   "outputs": [],
   "source": [
    "def partiesliste1(liste): \n",
    "    \"\"\"\n",
    "    genere toutes les parties de l'ensemble des éléments de liste\n",
    "    \n",
    "    >>> partiesliste1([1,2,3])\n",
    "    [[1, 2, 3], [2, 3], [1, 3], [3], [1, 2], [2], [1], []]\n",
    "    \"\"\"\n",
    "    parties = [[]] \n",
    "    while liste: \n",
    "        premier = liste[0] \n",
    "        liste = liste[1:] \n",
    "        construction = [x + [premier] for x in parties] + parties  \n",
    "        parties = construction \n",
    "    return parties "
   ]
  },
  {
   "cell_type": "markdown",
   "metadata": {},
   "source": [
    "### Méthode 2 : construction à l'aide du binaire"
   ]
  },
  {
   "cell_type": "code",
   "execution_count": 3,
   "metadata": {},
   "outputs": [],
   "source": [
    "def partiesliste2(liste):\n",
    "    \"\"\"\n",
    "    genere toutes les parties de l'ensemble des éléments de liste\n",
    "    pour une valeur du compteur i, s'il y a un '1' en j-ème position du compteur en binaire, \n",
    "    alors on ajoute le j-ème élément dans la liste correspondant à ce compteur.\n",
    "    \n",
    "    >>> partiesliste2([1,2,3])\n",
    "    [[], [1], [2], [1, 2], [3], [1, 3], [2, 3], [1, 2, 3]]\n",
    "    \"\"\"\n",
    "    parties = []\n",
    "    for i in range(2**len(liste)):\n",
    "        nouveau = []\n",
    "        for j in range(len(liste)):\n",
    "            if (i >> j) & 1 == 1:     # si l'écriture binaire de i comporte un 1 en j-eme position\n",
    "                nouveau.append(liste[j])\n",
    "        parties.append(nouveau)\n",
    "    return parties"
   ]
  },
  {
   "cell_type": "markdown",
   "metadata": {},
   "source": [
    "### Méthode 3 : utilisation du module itertools"
   ]
  },
  {
   "cell_type": "code",
   "execution_count": 4,
   "metadata": {},
   "outputs": [],
   "source": [
    "import itertools\n",
    "def partiesliste3(liste):\n",
    "    \"\"\"\n",
    "    genere toutes les parties de l'ensemble des éléments de liste, de taille croissante\n",
    "    \n",
    "    >>> partiesliste3([1,2,3])\n",
    "   [[], [1], [2], [3], [1, 2], [1, 3], [2, 3], [1, 2, 3]]\n",
    "    \"\"\"\n",
    "    parties = []\n",
    "    for i in range(0, len(liste)+1):\n",
    "        for partie in itertools.combinations(liste, i):\n",
    "            parties.append(list(partie))\n",
    "    return parties"
   ]
  },
  {
   "cell_type": "markdown",
   "metadata": {},
   "source": [
    "## Calculer la somme des éléments de chaque partie"
   ]
  },
  {
   "cell_type": "code",
   "execution_count": 5,
   "metadata": {},
   "outputs": [],
   "source": [
    "def calcule_sommes(liste_parties):\n",
    "    sommes = {}\n",
    "    for partie in liste_parties:\n",
    "        somme = sum(partie)\n",
    "        if somme not in sommes :\n",
    "            sommes[somme] = [partie]\n",
    "        else :\n",
    "            sommes[somme].append(partie)\n",
    "    return sommes"
   ]
  },
  {
   "cell_type": "markdown",
   "metadata": {},
   "source": [
    "## Rechercher les éléments d'un dictionnaire dont la valeur a une longueur d'au moins 2."
   ]
  },
  {
   "cell_type": "code",
   "execution_count": 6,
   "metadata": {},
   "outputs": [],
   "source": [
    "def recherche_sommes_communes(dico):\n",
    "    sommes_communes = {}\n",
    "    for cle in dico:\n",
    "        if len(dico[cle]) > 1 : \n",
    "            sommes_communes[cle] = dico[cle]\n",
    "    return sommes_communes"
   ]
  },
  {
   "cell_type": "markdown",
   "metadata": {},
   "source": [
    "## Supprimer les listes non disjointes"
   ]
  },
  {
   "cell_type": "code",
   "execution_count": 7,
   "metadata": {},
   "outputs": [],
   "source": [
    "def nettoyage(dico):\n",
    "    \"\"\"\n",
    "    crée un dictionnaire contenant les clés de dico, \n",
    "    lorsqu'au moins deux listes disjointes ont cette valeur pour somme\n",
    "    Les valeurs associées à la clé sont les paires de deux ensembles disjoints dont la somme est la clé \n",
    "    \"\"\"\n",
    "    sommes_nettoyees={}\n",
    "    for cle in dico: \n",
    "        tableau = (dico[cle])\n",
    "        for i in range(len(tableau)):\n",
    "            for j in range(i+1,len(tableau)):\n",
    "                if set(tableau[i]).isdisjoint(set(tableau[j])):\n",
    "                    if cle not in sommes_nettoyees :\n",
    "                        sommes_nettoyees[cle] = [[set(tableau[i]), set(tableau[j])]]\n",
    "                    else :\n",
    "                        sommes_nettoyees[cle].append([set(tableau[i]), set(tableau[j])])\n",
    "                   \n",
    "    return sommes_nettoyees"
   ]
  },
  {
   "cell_type": "markdown",
   "metadata": {},
   "source": [
    "## Voir les solutions "
   ]
  },
  {
   "cell_type": "code",
   "execution_count": 8,
   "metadata": {},
   "outputs": [
    {
     "data": {
      "text/plain": [
       "[44, 79, 15, 74, 72, 18, 54, 19, 14, 97]"
      ]
     },
     "execution_count": 8,
     "metadata": {},
     "output_type": "execute_result"
    }
   ],
   "source": [
    "mes_dix_nombres = genere_dix_entiers()\n",
    "mes_dix_nombres"
   ]
  },
  {
   "cell_type": "code",
   "execution_count": 9,
   "metadata": {},
   "outputs": [],
   "source": [
    "mes_sommes_communes = recherche_sommes_communes(calcule_sommes(partiesliste2(mes_dix_nombres)))"
   ]
  },
  {
   "cell_type": "code",
   "execution_count": 14,
   "metadata": {},
   "outputs": [
    {
     "name": "stdout",
     "output_type": "stream",
     "text": [
      "Liste ordonnée des sommes que l'on peut obtenir à partir d'au moins deux sous-ensembles distincts de la liste  [44, 79, 15, 74, 72, 18, 54, 19, 14, 97]  : \n",
      " [33, 72, 73, 87, 88, 91, 92, 93, 97, 98, 106, 111, 112, 116, 123, 126, 130, 133, 141, 142, 146, 148, 151, 153, 155, 159, 160, 165, 169, 170, 171, 176, 184, 185, 187, 189, 190, 191, 194, 205, 206, 207, 209, 216, 221, 234, 243]\n"
     ]
    },
    {
     "data": {
      "text/plain": [
       "{123: [[{44, 79}, {14, 18, 19, 72}]],\n",
       " 153: [[{74, 79}, {18, 19, 44, 72}]],\n",
       " 133: [[{15, 44, 74}, {54, 79}]],\n",
       " 72: [[{72}, {18, 54}]],\n",
       " 116: [[{44, 72}, {18, 19, 79}],\n",
       "  [{44, 72}, {19, 97}],\n",
       "  [{18, 44, 54}, {19, 97}]],\n",
       " 151: [[{72, 79}, {15, 18, 44, 74}],\n",
       "  [{72, 79}, {14, 19, 44, 74}],\n",
       "  [{72, 79}, {54, 97}],\n",
       "  [{15, 18, 44, 74}, {54, 97}],\n",
       "  [{18, 54, 79}, {14, 19, 44, 74}],\n",
       "  [{14, 19, 44, 74}, {54, 97}]],\n",
       " 87: [[{15, 72}, {14, 19, 54}]],\n",
       " 146: [[{72, 74}, {14, 15, 19, 44, 54}]],\n",
       " 190: [[{44, 72, 74}, {14, 79, 97}], [{18, 44, 54, 74}, {14, 79, 97}]],\n",
       " 205: [[{54, 72, 79}, {15, 19, 74, 97}]],\n",
       " 97: [[{18, 79}, {97}]],\n",
       " 141: [[{18, 44, 79}, {15, 54, 72}], [{15, 54, 72}, {44, 97}]],\n",
       " 33: [[{15, 18}, {14, 19}]],\n",
       " 112: [[{15, 18, 79}, {14, 44, 54}],\n",
       "  [{14, 44, 54}, {15, 97}],\n",
       "  [{14, 19, 79}, {15, 97}]],\n",
       " 92: [[{18, 74}, {14, 15, 19, 44}]],\n",
       " 171: [[{14, 15, 19, 44, 79}, {74, 97}]],\n",
       " 169: [[{14, 18, 19, 44, 74}, {72, 97}]],\n",
       " 184: [[{15, 18, 72, 79}, {14, 19, 54, 97}],\n",
       "  [{14, 19, 72, 79}, {15, 18, 54, 97}],\n",
       "  [{14, 18, 19, 54, 79}, {15, 72, 97}]],\n",
       " 243: [[{18, 72, 74, 79}, {14, 15, 19, 44, 54, 97}],\n",
       "  [{14, 15, 19, 44, 72, 79}, {18, 54, 74, 97}],\n",
       "  [{14, 15, 18, 19, 44, 54, 79}, {72, 74, 97}]],\n",
       " 98: [[{44, 54}, {19, 79}]],\n",
       " 148: [[{15, 54, 79}, {14, 18, 44, 72}], [{15, 54, 79}, {14, 18, 19, 97}]],\n",
       " 207: [[{54, 74, 79}, {14, 15, 18, 19, 44, 97}]],\n",
       " 187: [[{15, 44, 54, 74}, {18, 72, 97}], [{15, 19, 74, 79}, {18, 72, 97}]],\n",
       " 126: [[{54, 72}, {15, 18, 19, 74}],\n",
       "  [{54, 72}, {14, 15, 18, 79}],\n",
       "  [{54, 72}, {14, 15, 97}]],\n",
       " 170: [[{19, 72, 79}, {14, 15, 44, 97}],\n",
       "  [{18, 19, 54, 79}, {14, 15, 44, 97}],\n",
       "  [{14, 15, 18, 44, 79}, {19, 54, 97}]],\n",
       " 185: [[{15, 44, 54, 72}, {14, 18, 74, 79}],\n",
       "  [{15, 44, 54, 72}, {14, 74, 97}],\n",
       "  [{15, 19, 72, 79}, {14, 74, 97}],\n",
       "  [{15, 18, 19, 54, 79}, {14, 74, 97}],\n",
       "  [{14, 18, 74, 79}, {15, 19, 54, 97}]],\n",
       " 159: [[{14, 19, 54, 72}, {18, 44, 97}]],\n",
       " 142: [[{19, 44, 79}, {14, 54, 74}]],\n",
       " 93: [[{19, 74}, {14, 79}]],\n",
       " 216: [[{19, 44, 74, 79}, {14, 15, 18, 72, 97}]],\n",
       " 91: [[{19, 72}, {14, 15, 18, 44}]],\n",
       " 106: [[{15, 19, 72}, {14, 18, 74}]],\n",
       " 165: [[{19, 72, 74}, {14, 18, 54, 79}],\n",
       "  [{19, 72, 74}, {14, 54, 97}],\n",
       "  [{18, 19, 54, 74}, {14, 72, 79}]],\n",
       " 209: [[{19, 44, 72, 74}, {15, 18, 79, 97}]],\n",
       " 160: [[{18, 19, 44, 79}, {14, 72, 74}],\n",
       "  [{14, 72, 74}, {19, 44, 97}],\n",
       "  [{14, 18, 54, 74}, {19, 44, 97}]],\n",
       " 111: [[{18, 19, 74}, {14, 97}]],\n",
       " 155: [[{18, 19, 44, 74}, {14, 15, 54, 72}]],\n",
       " 234: [[{15, 19, 54, 72, 74}, {14, 44, 79, 97}],\n",
       "  [{14, 15, 54, 72, 79}, {19, 44, 74, 97}]],\n",
       " 73: [[{19, 54}, {14, 15, 44}]],\n",
       " 88: [[{15, 19, 54}, {14, 74}]],\n",
       " 191: [[{19, 44, 54, 74}, {15, 79, 97}]],\n",
       " 206: [[{14, 15, 44, 54, 79}, {18, 19, 72, 97}]],\n",
       " 189: [[{19, 44, 54, 72}, {18, 74, 97}]],\n",
       " 130: [[{14, 44, 72}, {15, 18, 97}]],\n",
       " 221: [[{14, 54, 74, 79}, {15, 18, 19, 72, 97}]],\n",
       " 194: [[{14, 15, 19, 72, 74}, {18, 79, 97}]],\n",
       " 176: [[{14, 15, 19, 54, 74}, {79, 97}]]}"
      ]
     },
     "execution_count": 14,
     "metadata": {},
     "output_type": "execute_result"
    }
   ],
   "source": [
    "solutions = nettoyage(mes_sommes_communes)\n",
    "print(\"Liste ordonnée des sommes que l'on peut obtenir à partir d'au moins deux sous-ensembles distincts de la liste \", mes_dix_nombres,\" : \\n\", sorted([cle for cle in solutions]))\n",
    "solutions"
   ]
  },
  {
   "cell_type": "code",
   "execution_count": 11,
   "metadata": {},
   "outputs": [
    {
     "data": {
      "text/plain": [
       "77"
      ]
     },
     "execution_count": 11,
     "metadata": {},
     "output_type": "execute_result"
    }
   ],
   "source": [
    "compteur = 0\n",
    "for cle in solutions:\n",
    "    compteur = compteur + len(solutions[cle])\n",
    "compteur"
   ]
  },
  {
   "cell_type": "code",
   "execution_count": null,
   "metadata": {},
   "outputs": [],
   "source": []
  }
 ],
 "metadata": {
  "kernelspec": {
   "display_name": "Python 3",
   "language": "python",
   "name": "python3"
  },
  "language_info": {
   "codemirror_mode": {
    "name": "ipython",
    "version": 3
   },
   "file_extension": ".py",
   "mimetype": "text/x-python",
   "name": "python",
   "nbconvert_exporter": "python",
   "pygments_lexer": "ipython3",
   "version": "3.8.3"
  }
 },
 "nbformat": 4,
 "nbformat_minor": 4
}
