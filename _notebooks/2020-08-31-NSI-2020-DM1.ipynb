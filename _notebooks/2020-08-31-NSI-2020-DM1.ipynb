{
  "cells": [
    {
      "cell_type": "markdown",
      "source": [
        "# Sujet n°1\n",
        "\n",
        "> Une machine particulière\n",
        "\n",
        "- toc:true\n",
        "- branch: master\n",
        "- badges: true\n",
        "- author: Nathalie Weibel\n",
        "- image : images/dm1.png\n",
        "- categories: [jupyter, binaire, dm]"
      ],
      "metadata": {}
    },
    {
      "cell_type": "markdown",
      "source": [
        "Voici une fonction `mystere` définie en pseudo-code. Elle possède un seul *paramètre* : nombre_binaire.\n",
        "```\n",
        "definition fonction mystere(nombre_binaire):\n",
        "    Affecter à la variable resultat la valeur 0\n",
        "    Pour chaque caractere de nombre_binaire : #(parcouru de gauche à droite)\n",
        "       - si caractere est égal à '0' :\n",
        "           doubler resultat\n",
        "       - sinon si caractere est égal à '1':\n",
        "           doubler resultat et ajouter 1\n",
        "    Renvoyer resultat\n",
        "```\n",
        "    "
      ],
      "metadata": {}
    },
    {
      "cell_type": "markdown",
      "source": [
        "### 1. Appliquer une fonction à la main\n",
        "\n",
        "1.1 Déterminer \"à la main\" la valeur que renverrait la fonction `mystere` pour le paramètre : '110'.  \n",
        "\n",
        "\n"
      ],
      "metadata": {}
    },
    {
      "cell_type": "markdown",
      "source": [
        "1.2 Même question pour les valeurs '1000', '1100', '1111'.  \n"
      ],
      "metadata": {}
    },
    {
      "cell_type": "markdown",
      "source": [
        "1.3 Quelle interprétation peut-on faire ? Comment exprimer en une phrase ce que réalise cette fonction ? (on demande une simple conjecture, sans démonstration)."
      ],
      "metadata": {}
    },
    {
      "cell_type": "markdown",
      "source": [
        "### 2. Compléter une fonction   \n",
        "2.1 La fonction `mystere` a été ci-dessous écrite en Python, mais le code est incomplet.  \n",
        "Compléter la fonction en **remplaçant** chaque \"#à compléter\" par l'expression appropriée."
      ],
      "metadata": {}
    },
    {
      "cell_type": "code",
      "source": [
        "def mystere(nombre_binaire):\n",
        "    resultat =  #à compléter \n",
        "    for caractere in nombre_binaire:\n",
        "        if #à compléter :\n",
        "            resultat =  #à compléter \n",
        "        elif  #à compléter  :\n",
        "            resultat =  #à compléter \n",
        "    return  #à compléter "
      ],
      "outputs": [],
      "execution_count": null,
      "metadata": {}
    },
    {
      "cell_type": "markdown",
      "source": [
        "2.2 Tester la fonction complétée en l'appelant pour les valeurs de `nombre_binaire` de la question 1.2.   \n",
        "Comparer les résultats obtenus à la main et les résultats obtenus à l'aide de la fonction en python."
      ],
      "metadata": {}
    },
    {
      "cell_type": "markdown",
      "source": [
        "écriture binaire | exécution à la main | exécution de la fonction en python | Comparaison des résultats\n",
        ":---------------:|:-------------------:|:----------------------------------:|:-------------------------:\n",
        " '110'           |                     |                                    |\n",
        " '1000'          |                     |                                    |\n",
        " '1100'          |                     |                                    |\n",
        " '1111'          |                     |                                    |"
      ],
      "metadata": {}
    },
    {
      "cell_type": "markdown",
      "source": [
        "### 3. Tester une fonction\n",
        "On peut réaliser des tests sur une fonction à l'aide de l'instruction `assert`, qui ne renvoie rien si tout est correct mais qui affiche un message d'erreur dans le cas contraire. Elle vérifie, pour une valeur choisie du paramètre, que la fonction renvoie bien la valeur attendue. "
      ],
      "metadata": {}
    },
    {
      "cell_type": "code",
      "source": [
        "assert(mystere('10011111') == 159), \"la fonction mystere contient une erreur\""
      ],
      "outputs": [],
      "execution_count": null,
      "metadata": {}
    },
    {
      "cell_type": "markdown",
      "source": [
        "3.1 Exécuter la cellule précédente : aucun affichage ne doit se produire. Dans le cas contraire, modifier la fonction `mystere`."
      ],
      "metadata": {}
    },
    {
      "cell_type": "markdown",
      "source": [
        "3.2 Choisir un nombre binaire s'écrivant sur un octet et écrire une ligne de test comportant un `assert` en s'inspirant de l'instruction ci-dessus. "
      ],
      "metadata": {}
    },
    {
      "cell_type": "markdown",
      "source": [
        "3.3 Quelle fonction native en python renvoie le même résultat que la fonction mystère (complétée) ?"
      ],
      "metadata": {}
    },
    {
      "cell_type": "markdown",
      "source": [
        "### 4 Une machine particulière\n",
        "\n",
        "Une \"machine à calculer\" un peu particulière comporte un écran permettant d'afficher 10 chiffres et un clavier de 3 touches dont les fonctions sont : \n",
        "\n",
        "- mettre la valeur affichée à 0\n",
        "- doubler la valeur affichée\n",
        "- doubler la valeur affichée et ajouter 1.\n",
        "\n",
        "4.1 Peut-on afficher 159 sur cette machine ? Si oui, comment ? Sur combien de touches faut-il appuyer ?    \n"
      ],
      "metadata": {}
    },
    {
      "cell_type": "markdown",
      "source": [
        "4.2 Quel est le plus petit entier positif que l'on ne peut pas afficher sur l'écran de cette machine ? "
      ],
      "metadata": {}
    }
  ],
  "metadata": {
    "kernelspec": {
      "display_name": "Python 3",
      "language": "python",
      "name": "python3"
    },
    "language_info": {
      "name": "python",
      "version": "3.7.7",
      "mimetype": "text/x-python",
      "codemirror_mode": {
        "name": "ipython",
        "version": 3
      },
      "pygments_lexer": "ipython3",
      "nbconvert_exporter": "python",
      "file_extension": ".py"
    },
    "nteract": {
      "version": "0.24.0"
    }
  },
  "nbformat": 4,
  "nbformat_minor": 4
}